{
  "nbformat": 4,
  "nbformat_minor": 0,
  "metadata": {
    "colab": {
      "name": "Custom Loss function",
      "version": "0.3.2",
      "provenance": [],
      "collapsed_sections": [],
      "include_colab_link": true
    },
    "kernelspec": {
      "name": "python3",
      "display_name": "Python 3"
    }
  },
  "cells": [
    {
      "cell_type": "markdown",
      "metadata": {
        "id": "view-in-github",
        "colab_type": "text"
      },
      "source": [
        "<a href=\"https://colab.research.google.com/github/jacekwachowiak/Colab/blob/master/Custom_Loss_function.ipynb\" target=\"_parent\"><img src=\"https://colab.research.google.com/assets/colab-badge.svg\" alt=\"Open In Colab\"/></a>"
      ]
    },
    {
      "metadata": {
        "id": "fLIikgmjczb5",
        "colab_type": "code",
        "colab": {}
      },
      "cell_type": "code",
      "source": [
        "import keras\n",
        "from keras.datasets import fashion_mnist\n",
        "from keras.models import Sequential\n",
        "from keras.layers import Lambda\n",
        "from keras.losses import mae, mse\n",
        "import keras.backend as K\n",
        "import numpy as np\n",
        "from functools import partial"
      ],
      "execution_count": 0,
      "outputs": []
    },
    {
      "metadata": {
        "id": "0ljkA0WpdGRx",
        "colab_type": "code",
        "colab": {}
      },
      "cell_type": "code",
      "source": [
        "model = Sequential([Lambda(lambda x: x, input_shape=(1,))])"
      ],
      "execution_count": 0,
      "outputs": []
    },
    {
      "metadata": {
        "id": "qPe_3UCedbn7",
        "colab_type": "code",
        "colab": {
          "base_uri": "https://localhost:8080/",
          "height": 69
        },
        "outputId": "2d4bb36a-e7b6-4199-fa6a-1ada07a92130"
      },
      "cell_type": "code",
      "source": [
        "y_pred = [[2,]]\n",
        "y_pred = np.array(y_pred)\n",
        "y_true = [[4,]]\n",
        "y_true = np.array(y_true)\n",
        "\n",
        "\n",
        "y_pred = model.predict(y_pred)\n",
        "print(*y_pred)\n",
        "\n",
        "model.compile('sgd', mae)\n",
        "loss = model.evaluate(y_pred, y_true, verbose=0)\n",
        "print(loss)\n",
        "\n",
        "model.compile('sgd', mse)\n",
        "loss = model.evaluate(y_pred, y_true, verbose=0)\n",
        "print(loss)"
      ],
      "execution_count": 13,
      "outputs": [
        {
          "output_type": "stream",
          "text": [
            "[2.]\n",
            "2.0\n",
            "4.0\n"
          ],
          "name": "stdout"
        }
      ]
    },
    {
      "metadata": {
        "id": "FyFzV39bdrNb",
        "colab_type": "code",
        "colab": {}
      },
      "cell_type": "code",
      "source": [
        "def mpe(y_true, y_pred, p):\n",
        "  return K.mean(K.pow(K.abs(y_true - y_pred), p), axis=-1)"
      ],
      "execution_count": 0,
      "outputs": []
    },
    {
      "metadata": {
        "id": "EuNo0gbTgNYm",
        "colab_type": "code",
        "colab": {}
      },
      "cell_type": "code",
      "source": [
        "m4e = partial(mpe, p=4)\n",
        "m5e = partial(mpe, p=5)"
      ],
      "execution_count": 0,
      "outputs": []
    },
    {
      "metadata": {
        "id": "5DG2Ujase-C-",
        "colab_type": "code",
        "colab": {
          "base_uri": "https://localhost:8080/",
          "height": 34
        },
        "outputId": "8063ea03-47ee-4a1c-f5a1-335a585125df"
      },
      "cell_type": "code",
      "source": [
        "model.compile('sgd', m4e) #mean powered error loss\n",
        "loss = model.evaluate(y_pred, y_true, verbose=0)\n",
        "print(loss)"
      ],
      "execution_count": 35,
      "outputs": [
        {
          "output_type": "stream",
          "text": [
            "16.0\n"
          ],
          "name": "stdout"
        }
      ]
    },
    {
      "metadata": {
        "id": "Hao__b50gMbz",
        "colab_type": "code",
        "colab": {}
      },
      "cell_type": "code",
      "source": [
        "def double_loss(y_true, y_pred, l1=mae, l2=mse, w1=1, w2=1):\n",
        "  loss1 = l1(y_true, y_pred) * w1\n",
        "  loss2 = l2(y_true, y_pred) * w2\n",
        "  return (loss1 + loss2)"
      ],
      "execution_count": 0,
      "outputs": []
    },
    {
      "metadata": {
        "id": "JbSA_dr4h5Lw",
        "colab_type": "code",
        "colab": {}
      },
      "cell_type": "code",
      "source": [
        "diff = partial(double_loss, w1=10, w2=1)"
      ],
      "execution_count": 0,
      "outputs": []
    },
    {
      "metadata": {
        "id": "wAsnRznQfBBj",
        "colab_type": "code",
        "colab": {
          "base_uri": "https://localhost:8080/",
          "height": 34
        },
        "outputId": "23062d87-d081-48de-8315-33a804d996e7"
      },
      "cell_type": "code",
      "source": [
        "model.compile('sgd', diff)\n",
        "loss = model.evaluate(y_pred, y_true, verbose=0)\n",
        "print(loss)"
      ],
      "execution_count": 48,
      "outputs": [
        {
          "output_type": "stream",
          "text": [
            "24.0\n"
          ],
          "name": "stdout"
        }
      ]
    },
    {
      "metadata": {
        "id": "RdIcgKHyhDEz",
        "colab_type": "code",
        "colab": {}
      },
      "cell_type": "code",
      "source": [
        ""
      ],
      "execution_count": 0,
      "outputs": []
    }
  ]
}