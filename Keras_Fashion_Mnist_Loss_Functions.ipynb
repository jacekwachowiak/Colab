{
  "nbformat": 4,
  "nbformat_minor": 0,
  "metadata": {
    "colab": {
      "name": "Keras Fashion Mnist Loss Functions",
      "version": "0.3.2",
      "provenance": [],
      "collapsed_sections": [],
      "include_colab_link": true
    },
    "kernelspec": {
      "name": "python3",
      "display_name": "Python 3"
    }
  },
  "cells": [
    {
      "cell_type": "markdown",
      "metadata": {
        "id": "view-in-github",
        "colab_type": "text"
      },
      "source": [
        "<a href=\"https://colab.research.google.com/github/jacekwachowiak/Colab/blob/master/Keras_Fashion_Mnist_Loss_Functions.ipynb\" target=\"_parent\"><img src=\"https://colab.research.google.com/assets/colab-badge.svg\" alt=\"Open In Colab\"/></a>"
      ]
    },
    {
      "metadata": {
        "id": "tJPvnPfUWIjc",
        "colab_type": "code",
        "colab": {
          "base_uri": "https://localhost:8080/",
          "height": 34
        },
        "outputId": "d1f98368-2358-4455-d6bf-120dd359718d"
      },
      "cell_type": "code",
      "source": [
        "import keras\n",
        "from keras.datasets import fashion_mnist\n",
        "from keras.models import Sequential\n",
        "from keras.layers import Flatten, Dense\n",
        "from keras.losses import  *\n",
        "import keras.backend as K\n",
        "import numpy as np\n",
        "from keras.utils import to_categorical"
      ],
      "execution_count": 1,
      "outputs": [
        {
          "output_type": "stream",
          "text": [
            "Using TensorFlow backend.\n"
          ],
          "name": "stderr"
        }
      ]
    },
    {
      "metadata": {
        "id": "naxSFk4uWlVD",
        "colab_type": "code",
        "colab": {
          "base_uri": "https://localhost:8080/",
          "height": 51
        },
        "outputId": "5f217dcf-1bb2-41b5-b407-845454828b40"
      },
      "cell_type": "code",
      "source": [
        "(X_train, Y_train), (X_val, Y_val) = fashion_mnist.load_data()\n",
        "print(X_train.shape)\n",
        "print(Y_train.shape)"
      ],
      "execution_count": 2,
      "outputs": [
        {
          "output_type": "stream",
          "text": [
            "(60000, 28, 28)\n",
            "(60000,)\n"
          ],
          "name": "stdout"
        }
      ]
    },
    {
      "metadata": {
        "id": "feaHkCasWzj1",
        "colab_type": "code",
        "colab": {
          "base_uri": "https://localhost:8080/",
          "height": 34
        },
        "outputId": "196be146-ab9b-40fb-c211-f4ad4e29f4c9"
      },
      "cell_type": "code",
      "source": [
        "np.max(X_train)\n"
      ],
      "execution_count": 3,
      "outputs": [
        {
          "output_type": "execute_result",
          "data": {
            "text/plain": [
              "255"
            ]
          },
          "metadata": {
            "tags": []
          },
          "execution_count": 3
        }
      ]
    },
    {
      "metadata": {
        "id": "fFiR5uB_XBKk",
        "colab_type": "code",
        "colab": {
          "base_uri": "https://localhost:8080/",
          "height": 34
        },
        "outputId": "6cec0ad2-a2b3-4469-aeb3-7082d25954ea"
      },
      "cell_type": "code",
      "source": [
        "np.min(X_train)"
      ],
      "execution_count": 4,
      "outputs": [
        {
          "output_type": "execute_result",
          "data": {
            "text/plain": [
              "0"
            ]
          },
          "metadata": {
            "tags": []
          },
          "execution_count": 4
        }
      ]
    },
    {
      "metadata": {
        "id": "Dx7PPjs3XISF",
        "colab_type": "code",
        "colab": {}
      },
      "cell_type": "code",
      "source": [
        "X_train, X_val = X_train / np.max(X_train), X_val / np.max(X_train)"
      ],
      "execution_count": 0,
      "outputs": []
    },
    {
      "metadata": {
        "id": "AEgs5k2bXoQA",
        "colab_type": "code",
        "colab": {
          "base_uri": "https://localhost:8080/",
          "height": 34
        },
        "outputId": "65ac0138-0c18-4030-d6af-405406223bc1"
      },
      "cell_type": "code",
      "source": [
        "np.min(Y_train)"
      ],
      "execution_count": 6,
      "outputs": [
        {
          "output_type": "execute_result",
          "data": {
            "text/plain": [
              "0"
            ]
          },
          "metadata": {
            "tags": []
          },
          "execution_count": 6
        }
      ]
    },
    {
      "metadata": {
        "id": "CqXTP0ILXsPs",
        "colab_type": "code",
        "colab": {
          "base_uri": "https://localhost:8080/",
          "height": 34
        },
        "outputId": "874a3241-d1f3-4149-9225-d865c0f94c4a"
      },
      "cell_type": "code",
      "source": [
        "np.max(Y_train)"
      ],
      "execution_count": 7,
      "outputs": [
        {
          "output_type": "execute_result",
          "data": {
            "text/plain": [
              "9"
            ]
          },
          "metadata": {
            "tags": []
          },
          "execution_count": 7
        }
      ]
    },
    {
      "metadata": {
        "id": "kDRlkRl3Xuyh",
        "colab_type": "code",
        "colab": {}
      },
      "cell_type": "code",
      "source": [
        "Y_train = to_categorical(Y_train)\n",
        "Y_val = to_categorical(Y_val)"
      ],
      "execution_count": 0,
      "outputs": []
    },
    {
      "metadata": {
        "id": "fGF4GLQ5X8zK",
        "colab_type": "code",
        "colab": {
          "base_uri": "https://localhost:8080/",
          "height": 34
        },
        "outputId": "cc778968-b88a-44a6-b929-a50a2e15e39b"
      },
      "cell_type": "code",
      "source": [
        "np.max(Y_train)"
      ],
      "execution_count": 9,
      "outputs": [
        {
          "output_type": "execute_result",
          "data": {
            "text/plain": [
              "1.0"
            ]
          },
          "metadata": {
            "tags": []
          },
          "execution_count": 9
        }
      ]
    },
    {
      "metadata": {
        "id": "dL87k5gyX_Yb",
        "colab_type": "code",
        "colab": {
          "base_uri": "https://localhost:8080/",
          "height": 34
        },
        "outputId": "eab4eac5-a907-427e-d18a-4b8d5ff86d44"
      },
      "cell_type": "code",
      "source": [
        "Y_train.shape"
      ],
      "execution_count": 10,
      "outputs": [
        {
          "output_type": "execute_result",
          "data": {
            "text/plain": [
              "(60000, 10)"
            ]
          },
          "metadata": {
            "tags": []
          },
          "execution_count": 10
        }
      ]
    },
    {
      "metadata": {
        "id": "tkkOQGgTbTxH",
        "colab_type": "code",
        "colab": {
          "base_uri": "https://localhost:8080/",
          "height": 121
        },
        "outputId": "ba763ab4-46d1-445c-f13d-6792a27762b3"
      },
      "cell_type": "code",
      "source": [
        ""
      ],
      "execution_count": 15,
      "outputs": [
        {
          "output_type": "stream",
          "text": [
            "loss: categorical_crossentropy\n",
            "loss: mean_absolute_error\n",
            "loss: mean_squared_error\n",
            "loss: hinge\n",
            "loss: categorical_hinge\n",
            "loss: cosine_proximity\n"
          ],
          "name": "stdout"
        }
      ]
    },
    {
      "metadata": {
        "id": "Jx0Z5YyLYCRo",
        "colab_type": "code",
        "colab": {
          "base_uri": "https://localhost:8080/",
          "height": 89
        },
        "outputId": "f3a525db-e73f-4b68-e718-2e5fd1bdd28a"
      },
      "cell_type": "code",
      "source": [
        "K.clear_session()\n",
        "model = Sequential([Flatten(input_shape = (28, 28)),\n",
        "                   Dense(32, activation='relu'),\n",
        "                   Dense(10, activation='softmax')])"
      ],
      "execution_count": 11,
      "outputs": [
        {
          "output_type": "stream",
          "text": [
            "WARNING:tensorflow:From /usr/local/lib/python3.6/dist-packages/tensorflow/python/framework/op_def_library.py:263: colocate_with (from tensorflow.python.framework.ops) is deprecated and will be removed in a future version.\n",
            "Instructions for updating:\n",
            "Colocations handled automatically by placer.\n"
          ],
          "name": "stdout"
        }
      ]
    },
    {
      "metadata": {
        "id": "PU6NkRHiZO5f",
        "colab_type": "code",
        "colab": {
          "base_uri": "https://localhost:8080/",
          "height": 242
        },
        "outputId": "e2339214-7264-4e96-cecd-eb05e49203a3"
      },
      "cell_type": "code",
      "source": [
        "model.summary()"
      ],
      "execution_count": 16,
      "outputs": [
        {
          "output_type": "stream",
          "text": [
            "_________________________________________________________________\n",
            "Layer (type)                 Output Shape              Param #   \n",
            "=================================================================\n",
            "flatten_1 (Flatten)          (None, 784)               0         \n",
            "_________________________________________________________________\n",
            "dense_1 (Dense)              (None, 32)                25120     \n",
            "_________________________________________________________________\n",
            "dense_2 (Dense)              (None, 10)                330       \n",
            "=================================================================\n",
            "Total params: 25,450\n",
            "Trainable params: 25,450\n",
            "Non-trainable params: 0\n",
            "_________________________________________________________________\n"
          ],
          "name": "stdout"
        }
      ]
    },
    {
      "metadata": {
        "id": "ma42CuyzZ0r_",
        "colab_type": "code",
        "colab": {}
      },
      "cell_type": "code",
      "source": [
        "model.compile('sgd', mae, metrics=['acc'])"
      ],
      "execution_count": 0,
      "outputs": []
    },
    {
      "metadata": {
        "id": "gFKQcJ1NZUYd",
        "colab_type": "code",
        "colab": {
          "base_uri": "https://localhost:8080/",
          "height": 207
        },
        "outputId": "b74477f4-6614-4cf4-9fe7-e5d934fc9294"
      },
      "cell_type": "code",
      "source": [
        "history = model.fit(X_train, Y_train, epochs=5, validation_data=(X_val, Y_val), verbose=2)"
      ],
      "execution_count": 18,
      "outputs": [
        {
          "output_type": "stream",
          "text": [
            "Train on 60000 samples, validate on 10000 samples\n",
            "Epoch 1/5\n",
            " - 3s - loss: 0.0851 - acc: 0.6229 - val_loss: 0.0842 - val_acc: 0.6234\n",
            "Epoch 2/5\n",
            " - 3s - loss: 0.0830 - acc: 0.6249 - val_loss: 0.0824 - val_acc: 0.6250\n",
            "Epoch 3/5\n",
            " - 3s - loss: 0.0815 - acc: 0.6261 - val_loss: 0.0812 - val_acc: 0.6258\n",
            "Epoch 4/5\n",
            " - 3s - loss: 0.0804 - acc: 0.6273 - val_loss: 0.0803 - val_acc: 0.6267\n",
            "Epoch 5/5\n",
            " - 3s - loss: 0.0796 - acc: 0.6282 - val_loss: 0.0795 - val_acc: 0.6291\n"
          ],
          "name": "stdout"
        }
      ]
    },
    {
      "metadata": {
        "id": "FAdkXxihZc_D",
        "colab_type": "code",
        "colab": {
          "base_uri": "https://localhost:8080/",
          "height": 1337
        },
        "outputId": "93a663eb-9d2d-4d96-beea-d341d13af898"
      },
      "cell_type": "code",
      "source": [
        "losses = categorical_crossentropy, mae, mse, hinge, categorical_hinge, cosine\n",
        "\n",
        "for loss in losses:\n",
        "  print('loss:', loss.__name__)\n",
        "  K.clear_session()\n",
        "  model = Sequential([Flatten(input_shape = (28, 28)),\n",
        "                   Dense(32, activation='relu'),\n",
        "                   Dense(10, activation='softmax')])\n",
        "  model.compile('sgd', loss, metrics=['acc'])\n",
        "  history = model.fit(X_train, Y_train, epochs=5, validation_data=(X_val, Y_val), verbose=2)\n",
        "  \n",
        "  "
      ],
      "execution_count": 19,
      "outputs": [
        {
          "output_type": "stream",
          "text": [
            "loss: categorical_crossentropy\n",
            "Train on 60000 samples, validate on 10000 samples\n",
            "Epoch 1/5\n",
            " - 3s - loss: 0.8261 - acc: 0.7252 - val_loss: 0.6111 - val_acc: 0.7945\n",
            "Epoch 2/5\n",
            " - 3s - loss: 0.5440 - acc: 0.8157 - val_loss: 0.5404 - val_acc: 0.8118\n",
            "Epoch 3/5\n",
            " - 3s - loss: 0.4922 - acc: 0.8299 - val_loss: 0.5089 - val_acc: 0.8217\n",
            "Epoch 4/5\n",
            " - 3s - loss: 0.4672 - acc: 0.8378 - val_loss: 0.4955 - val_acc: 0.8269\n",
            "Epoch 5/5\n",
            " - 3s - loss: 0.4489 - acc: 0.8445 - val_loss: 0.4725 - val_acc: 0.8319\n",
            "loss: mean_absolute_error\n",
            "Train on 60000 samples, validate on 10000 samples\n",
            "Epoch 1/5\n",
            " - 3s - loss: 0.1632 - acc: 0.2389 - val_loss: 0.1479 - val_acc: 0.3105\n",
            "Epoch 2/5\n",
            " - 3s - loss: 0.1342 - acc: 0.4374 - val_loss: 0.1191 - val_acc: 0.5210\n",
            "Epoch 3/5\n",
            " - 3s - loss: 0.1070 - acc: 0.5948 - val_loss: 0.0983 - val_acc: 0.6097\n",
            "Epoch 4/5\n",
            " - 2s - loss: 0.0932 - acc: 0.6189 - val_loss: 0.0898 - val_acc: 0.6203\n",
            "Epoch 5/5\n",
            " - 2s - loss: 0.0871 - acc: 0.6239 - val_loss: 0.0854 - val_acc: 0.6240\n",
            "loss: mean_squared_error\n",
            "Train on 60000 samples, validate on 10000 samples\n",
            "Epoch 1/5\n",
            " - 3s - loss: 0.0867 - acc: 0.2344 - val_loss: 0.0819 - val_acc: 0.2758\n",
            "Epoch 2/5\n",
            " - 3s - loss: 0.0753 - acc: 0.4274 - val_loss: 0.0677 - val_acc: 0.5568\n",
            "Epoch 3/5\n",
            " - 3s - loss: 0.0603 - acc: 0.6002 - val_loss: 0.0547 - val_acc: 0.6328\n",
            "Epoch 4/5\n",
            " - 3s - loss: 0.0507 - acc: 0.6551 - val_loss: 0.0483 - val_acc: 0.6653\n",
            "Epoch 5/5\n",
            " - 3s - loss: 0.0458 - acc: 0.6800 - val_loss: 0.0447 - val_acc: 0.6825\n",
            "loss: hinge\n",
            "Train on 60000 samples, validate on 10000 samples\n",
            "Epoch 1/5\n",
            " - 3s - loss: 0.9867 - acc: 0.2301 - val_loss: 0.9823 - val_acc: 0.2729\n",
            "Epoch 2/5\n",
            " - 3s - loss: 0.9778 - acc: 0.2954 - val_loss: 0.9745 - val_acc: 0.2927\n",
            "Epoch 3/5\n",
            " - 3s - loss: 0.9723 - acc: 0.2935 - val_loss: 0.9710 - val_acc: 0.2979\n",
            "Epoch 4/5\n",
            " - 3s - loss: 0.9696 - acc: 0.3279 - val_loss: 0.9684 - val_acc: 0.3564\n",
            "Epoch 5/5\n",
            " - 3s - loss: 0.9668 - acc: 0.3669 - val_loss: 0.9657 - val_acc: 0.3740\n",
            "loss: categorical_hinge\n",
            "WARNING:tensorflow:From /usr/local/lib/python3.6/dist-packages/tensorflow/python/ops/math_grad.py:102: div (from tensorflow.python.ops.math_ops) is deprecated and will be removed in a future version.\n",
            "Instructions for updating:\n",
            "Deprecated in favor of operator or tf.math.divide.\n",
            "Train on 60000 samples, validate on 10000 samples\n",
            "Epoch 1/5\n",
            " - 3s - loss: 0.9619 - acc: 0.3504 - val_loss: 0.8871 - val_acc: 0.4311\n",
            "Epoch 2/5\n",
            " - 3s - loss: 0.8003 - acc: 0.5347 - val_loss: 0.7001 - val_acc: 0.6207\n",
            "Epoch 3/5\n",
            " - 3s - loss: 0.6203 - acc: 0.6758 - val_loss: 0.5712 - val_acc: 0.7244\n",
            "Epoch 4/5\n",
            " - 3s - loss: 0.5345 - acc: 0.7511 - val_loss: 0.5153 - val_acc: 0.7599\n",
            "Epoch 5/5\n",
            " - 3s - loss: 0.4766 - acc: 0.7804 - val_loss: 0.4612 - val_acc: 0.7850\n",
            "loss: cosine_proximity\n",
            "Train on 60000 samples, validate on 10000 samples\n",
            "Epoch 1/5\n",
            " - 3s - loss: -6.8534e-01 - acc: 0.6662 - val_loss: -7.7877e-01 - val_acc: 0.7615\n",
            "Epoch 2/5\n",
            " - 3s - loss: -8.0642e-01 - acc: 0.7931 - val_loss: -8.1535e-01 - val_acc: 0.7982\n",
            "Epoch 3/5\n",
            " - 3s - loss: -8.3068e-01 - acc: 0.8147 - val_loss: -8.2902e-01 - val_acc: 0.8094\n",
            "Epoch 4/5\n",
            " - 3s - loss: -8.4320e-01 - acc: 0.8261 - val_loss: -8.3827e-01 - val_acc: 0.8176\n",
            "Epoch 5/5\n",
            " - 3s - loss: -8.5107e-01 - acc: 0.8328 - val_loss: -8.4579e-01 - val_acc: 0.8245\n"
          ],
          "name": "stdout"
        }
      ]
    },
    {
      "metadata": {
        "id": "FFBqcHSzb01f",
        "colab_type": "code",
        "colab": {}
      },
      "cell_type": "code",
      "source": [
        ""
      ],
      "execution_count": 0,
      "outputs": []
    }
  ]
}